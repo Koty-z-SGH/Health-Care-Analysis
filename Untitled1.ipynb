{
  "nbformat": 4,
  "nbformat_minor": 0,
  "metadata": {
    "colab": {
      "provenance": []
    },
    "kernelspec": {
      "name": "python3",
      "display_name": "Python 3"
    },
    "language_info": {
      "name": "python"
    }
  },
  "cells": [
    {
      "cell_type": "code",
      "execution_count": null,
      "metadata": {
        "id": "KQbrxGmNR6SB",
        "outputId": "a6048639-41a8-43d8-9170-389dfc2c0a9a",
        "colab": {
          "base_uri": "https://localhost:8080/"
        }
      },
      "outputs": [
        {
          "output_type": "stream",
          "name": "stdout",
          "text": [
            "siema\n"
          ]
        }
      ],
      "source": [
        "print(\"siema\")"
      ]
    },
    {
      "cell_type": "code",
      "source": [
        "import pandas as pd\n",
        "import matplotlib.pyplot as plt\n",
        "import seaborn as sns\n",
        "import numpy as np"
      ],
      "metadata": {
        "id": "45tbCsjT5iSO"
      },
      "execution_count": null,
      "outputs": []
    },
    {
      "cell_type": "code",
      "source": [
        "dane = pd.read_csv('/content/unclean_smartwatch_health_data.csv')\n",
        "print(type(dane))\n",
        "#print(dane.head())\n",
        "print(dane.dtypes)\n",
        "\n",
        "\n"
      ],
      "metadata": {
        "colab": {
          "base_uri": "https://localhost:8080/"
        },
        "id": "dqUUoZZc5xKS",
        "outputId": "177d8eb4-d3c7-4db9-9fa4-d982e9028bb8"
      },
      "execution_count": null,
      "outputs": [
        {
          "output_type": "stream",
          "name": "stdout",
          "text": [
            "<class 'pandas.core.frame.DataFrame'>\n",
            "User ID                   float64\n",
            "Heart Rate (BPM)          float64\n",
            "Blood Oxygen Level (%)    float64\n",
            "Step Count                float64\n",
            "Sleep Duration (hours)     object\n",
            "Activity Level             object\n",
            "Stress Level               object\n",
            "dtype: object\n"
          ]
        }
      ]
    },
    {
      "cell_type": "code",
      "source": [
        "\n",
        "print(dane['Sleep Duration (hours)'])\n",
        "\n",
        "\n",
        "czyste = dane[~dane['Sleep Duration (hours)'].isnull()]\n",
        "\n",
        "czyste_1 = czyste[czyste['Sleep Duration (hours)'] != 'ERROR']\n",
        "\n",
        "print(czyste_1['Sleep Duration (hours)'].value_counts())\n",
        "\n",
        "czyste_1['Sleep Duration (hours)'] = czyste_1['Sleep Duration (hours)'].astype('float64')\n",
        "\n",
        "srednia = czyste_1['Sleep Duration (hours)'].mean()\n",
        "\n",
        "czyste_1.columns = ['user_id','bpm','bol','step_count','sleep_dur','act_lvl','stres_lvl']\n",
        "\n",
        "print(czyste_1.columns)\n",
        "\n",
        "\n"
      ],
      "metadata": {
        "colab": {
          "base_uri": "https://localhost:8080/"
        },
        "id": "_2GSYqFJ7I9w",
        "outputId": "6ebe3150-b3f9-4361-bae4-93e061e0d422"
      },
      "execution_count": null,
      "outputs": [
        {
          "output_type": "stream",
          "name": "stdout",
          "text": [
            "0        7.167235622316564\n",
            "1        6.538239375570314\n",
            "2                    ERROR\n",
            "3        7.367789630207228\n",
            "4                      NaN\n",
            "               ...        \n",
            "9995     7.402748595032027\n",
            "9996    6.3821659358529015\n",
            "9997      6.91654920303435\n",
            "9998     5.691233932149209\n",
            "9999     5.691001039740254\n",
            "Name: Sleep Duration (hours), Length: 10000, dtype: object\n",
            "Sleep Duration (hours)\n",
            "5.691001039740254     1\n",
            "7.167235622316564     1\n",
            "6.538239375570314     1\n",
            "8.19909228367997      1\n",
            "7.301008773588672     1\n",
            "                     ..\n",
            "7.9544989905339145    1\n",
            "5.468413771417153     1\n",
            "5.224139066195455     1\n",
            "7.871146008904113     1\n",
            "8.378342673824589     1\n",
            "Name: count, Length: 9603, dtype: int64\n",
            "Index(['user_id', 'bpm', 'bol', 'step_count', 'sleep_dur', 'act_lvl',\n",
            "       'stres_lvl'],\n",
            "      dtype='object')\n"
          ]
        },
        {
          "output_type": "stream",
          "name": "stderr",
          "text": [
            "<ipython-input-13-4f54c6181774>:10: SettingWithCopyWarning: \n",
            "A value is trying to be set on a copy of a slice from a DataFrame.\n",
            "Try using .loc[row_indexer,col_indexer] = value instead\n",
            "\n",
            "See the caveats in the documentation: https://pandas.pydata.org/pandas-docs/stable/user_guide/indexing.html#returning-a-view-versus-a-copy\n",
            "  czyste_1['Sleep Duration (hours)'] = czyste_1['Sleep Duration (hours)'].astype('float64')\n"
          ]
        }
      ]
    },
    {
      "cell_type": "code",
      "source": [
        "czyste_5 = (czyste_1['bpm']).dropna()\n",
        "print(czyste_5)"
      ],
      "metadata": {
        "id": "I0KMtVF7CE1t",
        "colab": {
          "base_uri": "https://localhost:8080/"
        },
        "outputId": "c6273917-e466-42be-8739-a9a708fc2514"
      },
      "execution_count": null,
      "outputs": [
        {
          "output_type": "stream",
          "name": "stdout",
          "text": [
            "0       58.939776\n",
            "3       40.000000\n",
            "5       96.285938\n",
            "6       47.272257\n",
            "7       81.733497\n",
            "          ...    \n",
            "9994    77.912299\n",
            "9995    78.819386\n",
            "9996    48.632659\n",
            "9997    73.834442\n",
            "9999    70.063864\n",
            "Name: bpm, Length: 9218, dtype: float64\n"
          ]
        }
      ]
    }
  ]
}