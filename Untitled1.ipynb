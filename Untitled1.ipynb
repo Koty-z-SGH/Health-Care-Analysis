{
  "nbformat": 4,
  "nbformat_minor": 0,
  "metadata": {
    "colab": {
      "provenance": []
    },
    "kernelspec": {
      "name": "python3",
      "display_name": "Python 3"
    },
    "language_info": {
      "name": "python"
    }
  },
  "cells": [
    {
      "cell_type": "code",
      "execution_count": null,
      "metadata": {
        "id": "KQbrxGmNR6SB",
        "outputId": "a6048639-41a8-43d8-9170-389dfc2c0a9a",
        "colab": {
          "base_uri": "https://localhost:8080/"
        }
      },
      "outputs": [
        {
          "output_type": "stream",
          "name": "stdout",
          "text": [
            "siema\n"
          ]
        }
      ],
      "source": [
        "print(\"siema\")"
      ]
    },
    {
      "cell_type": "code",
      "source": [
        "import pandas as pd\n",
        "import matplotlib.pyplot as plt\n",
        "import seaborn as sns\n",
        "import numpy as np"
      ],
      "metadata": {
        "id": "45tbCsjT5iSO"
      },
      "execution_count": 15,
      "outputs": []
    },
    {
      "cell_type": "code",
      "source": [
        "dane = pd.read_csv('/content/unclean_smartwatch_health_data.csv')\n",
        "print(type(dane))\n",
        "#print(dane.head())\n",
        "print(dane.dtypes)\n",
        "\n",
        "\n"
      ],
      "metadata": {
        "colab": {
          "base_uri": "https://localhost:8080/"
        },
        "id": "dqUUoZZc5xKS",
        "outputId": "0f80c95c-f7d1-44b0-b2b9-07cf44757eeb"
      },
      "execution_count": 16,
      "outputs": [
        {
          "output_type": "stream",
          "name": "stdout",
          "text": [
            "<class 'pandas.core.frame.DataFrame'>\n",
            "User ID                   float64\n",
            "Heart Rate (BPM)          float64\n",
            "Blood Oxygen Level (%)    float64\n",
            "Step Count                float64\n",
            "Sleep Duration (hours)     object\n",
            "Activity Level             object\n",
            "Stress Level               object\n",
            "dtype: object\n"
          ]
        }
      ]
    },
    {
      "cell_type": "code",
      "source": [
        "\n",
        "#print(dane['Sleep Duration (hours)'])\n",
        "\n",
        "\n",
        "czyste = dane[~dane['Sleep Duration (hours)'].isnull()]\n",
        "\n",
        "czyste_1 = czyste[czyste['Sleep Duration (hours)'] != 'ERROR']\n",
        "\n",
        "#print(czyste_1['Sleep Duration (hours)'].value_counts())\n",
        "\n",
        "czyste_1['Sleep Duration (hours)'] = czyste_1['Sleep Duration (hours)'].astype('float64')\n",
        "\n",
        "srednia = czyste_1['Sleep Duration (hours)'].mean()\n",
        "\n",
        "czyste_1.columns = ['user_id','bpm','bol','step_count','sleep_dur','act_lvl','stres_lvl']\n",
        "\n",
        "print(czyste_1.columns)\n",
        "\n"
      ],
      "metadata": {
        "colab": {
          "base_uri": "https://localhost:8080/"
        },
        "id": "_2GSYqFJ7I9w",
        "outputId": "9a951de5-be5f-4017-e0d3-989524de43e5"
      },
      "execution_count": 36,
      "outputs": [
        {
          "output_type": "stream",
          "name": "stdout",
          "text": [
            "Index(['user_id', 'bpm', 'bol', 'step_count', 'sleep_dur', 'act_lvl',\n",
            "       'stres_lvl'],\n",
            "      dtype='object')\n"
          ]
        },
        {
          "output_type": "stream",
          "name": "stderr",
          "text": [
            "<ipython-input-36-8bb06f7727be>:10: SettingWithCopyWarning: \n",
            "A value is trying to be set on a copy of a slice from a DataFrame.\n",
            "Try using .loc[row_indexer,col_indexer] = value instead\n",
            "\n",
            "See the caveats in the documentation: https://pandas.pydata.org/pandas-docs/stable/user_guide/indexing.html#returning-a-view-versus-a-copy\n",
            "  czyste_1['Sleep Duration (hours)'] = czyste_1['Sleep Duration (hours)'].astype('float64')\n"
          ]
        }
      ]
    },
    {
      "cell_type": "code",
      "source": [
        "czysteH = czyste_1[~czyste_1['bpm'].isnull()]\n",
        "\n",
        "czyste_H1 = czysteH[czysteH['bpm'] != 'ERROR']\n",
        "\n",
        "print(czyste_H1['bpm'].value_counts())\n",
        "\n",
        "czyste_H1['bpm'] = czyste_H1['bpm'].astype('float64')\n",
        "\n",
        "sredniaH = czyste_H1['bpm'].mean()\n",
        "print(sredniaH)\n"
      ],
      "metadata": {
        "id": "I0KMtVF7CE1t",
        "colab": {
          "base_uri": "https://localhost:8080/"
        },
        "outputId": "af029708-4868-48b2-f7b3-7d2ed8bdc740"
      },
      "execution_count": 30,
      "outputs": [
        {
          "output_type": "stream",
          "name": "stdout",
          "text": [
            "bpm\n",
            "40.000000    83\n",
            "85.829187     1\n",
            "61.875284     1\n",
            "75.335672     1\n",
            "81.191998     1\n",
            "             ..\n",
            "67.992932     1\n",
            "87.517523     1\n",
            "72.013035     1\n",
            "85.693520     1\n",
            "54.484048     1\n",
            "Name: count, Length: 9136, dtype: int64\n",
            "76.05391982567487\n"
          ]
        }
      ]
    },
    {
      "cell_type": "code",
      "source": [
        "czysteK = czyste_1[~czyste_1['step_count'].isnull()]\n",
        "\n",
        "czyste_K1 = czysteK[czysteK['step_count'] != 'ERROR']\n",
        "\n",
        "print(czyste_K1['step_count'].value_counts())\n",
        "\n",
        "czyste_K1['step_count'] = czyste_K1['step_count'].astype('float64')\n",
        "\n",
        "sredniaK = czyste_K1['step_count'].mean()\n",
        "print(sredniaK)\n"
      ],
      "metadata": {
        "colab": {
          "base_uri": "https://localhost:8080/"
        },
        "id": "gIKMldk0ZXSy",
        "outputId": "119e1db9-3b66-4a6f-92a0-92595290d70e"
      },
      "execution_count": 31,
      "outputs": [
        {
          "output_type": "stream",
          "name": "stdout",
          "text": [
            "step_count\n",
            "544.696104      1\n",
            "5450.390578     1\n",
            "727.601610      1\n",
            "13797.338044    1\n",
            "2512.902641     1\n",
            "               ..\n",
            "2987.568640     1\n",
            "7940.021452     1\n",
            "1775.029578     1\n",
            "6051.249857     1\n",
            "3208.781177     1\n",
            "Name: count, Length: 9508, dtype: int64\n",
            "6988.25350752246\n"
          ]
        }
      ]
    }
  ]
}